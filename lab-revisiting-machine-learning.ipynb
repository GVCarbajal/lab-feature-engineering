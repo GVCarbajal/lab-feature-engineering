{
 "cells": [
  {
   "cell_type": "markdown",
   "id": "d7fc6b2c",
   "metadata": {},
   "source": [
    "# Lab | Revisiting Machine Learning Case Study"
   ]
  },
  {
   "cell_type": "markdown",
   "id": "f7c5de78",
   "metadata": {},
   "source": [
    "In this lab, you will use learningSet.csv file which you already have cloned in previous activities: \"Healthcare for All\" dataset\n",
    "\n",
    "\n",
    "### Instructions\n",
    "\n",
    "Here we will work on cleaning some of the other columns in the dataset using the techniques that we used before in the lessons.\n",
    "\n",
    "1) Check for null values in the numerical columns.\n",
    "\n",
    "2) Use appropriate methods to clean the columns GEOCODE2, WEALTH1, ADI, DMA,and MSA.\n",
    "\n",
    "3) Use appropriate EDA technique where ever necessary."
   ]
  },
  {
   "cell_type": "code",
   "execution_count": 110,
   "id": "70be62ca",
   "metadata": {},
   "outputs": [],
   "source": [
    "# Prepare the toolbox\n",
    "\n",
    "import pandas as pd\n",
    "import numpy as np\n",
    "import datetime\n",
    "import warnings\n",
    "import matplotlib.pyplot as plt\n",
    "import seaborn as sns\n",
    "\n",
    "from math import floor\n",
    "\n",
    "warnings.filterwarnings('ignore')\n",
    "pd.set_option('display.max_columns', None)"
   ]
  },
  {
   "cell_type": "code",
   "execution_count": 2,
   "id": "80b5b3cf",
   "metadata": {},
   "outputs": [],
   "source": [
    "# Import dataset\n",
    "\n",
    "df = pd.read_csv('../learningSet.csv')"
   ]
  },
  {
   "cell_type": "code",
   "execution_count": 7,
   "id": "77fc6bfa",
   "metadata": {},
   "outputs": [
    {
     "data": {
      "text/plain": [
       "Index(['AGE', 'NUMCHLD', 'INCOME', 'WEALTH1', 'MBCRAFT', 'MBGARDEN', 'MBBOOKS',\n",
       "       'MBCOLECT', 'MAGFAML', 'MAGFEM', 'MAGMALE', 'PUBGARDN', 'PUBCULIN',\n",
       "       'PUBHLTH', 'PUBDOITY', 'PUBNEWFN', 'PUBPHOTO', 'PUBOPP', 'WEALTH2',\n",
       "       'MSA', 'ADI', 'DMA', 'ADATE_3', 'ADATE_4', 'ADATE_5', 'ADATE_6',\n",
       "       'ADATE_7', 'ADATE_8', 'ADATE_9', 'ADATE_10', 'ADATE_11', 'ADATE_12',\n",
       "       'ADATE_13', 'ADATE_14', 'ADATE_15', 'ADATE_16', 'ADATE_17', 'ADATE_18',\n",
       "       'ADATE_19', 'ADATE_20', 'ADATE_21', 'ADATE_22', 'ADATE_23', 'ADATE_24',\n",
       "       'RDATE_3', 'RDATE_4', 'RDATE_5', 'RDATE_6', 'RDATE_7', 'RDATE_8',\n",
       "       'RDATE_9', 'RDATE_10', 'RDATE_11', 'RDATE_12', 'RDATE_13', 'RDATE_14',\n",
       "       'RDATE_15', 'RDATE_16', 'RDATE_17', 'RDATE_18', 'RDATE_19', 'RDATE_20',\n",
       "       'RDATE_21', 'RDATE_22', 'RDATE_23', 'RDATE_24', 'RAMNT_3', 'RAMNT_4',\n",
       "       'RAMNT_5', 'RAMNT_6', 'RAMNT_7', 'RAMNT_8', 'RAMNT_9', 'RAMNT_10',\n",
       "       'RAMNT_11', 'RAMNT_12', 'RAMNT_13', 'RAMNT_14', 'RAMNT_15', 'RAMNT_16',\n",
       "       'RAMNT_17', 'RAMNT_18', 'RAMNT_19', 'RAMNT_20', 'RAMNT_21', 'RAMNT_22',\n",
       "       'RAMNT_23', 'RAMNT_24', 'NEXTDATE', 'TIMELAG', 'CLUSTER2'],\n",
       "      dtype='object')"
      ]
     },
     "execution_count": 7,
     "metadata": {},
     "output_type": "execute_result"
    }
   ],
   "source": [
    "dfnan = df.select_dtypes('number').isna().sum()\n",
    "NaN_columns = dfnan[dfnan>0].index\n",
    "NaN_columns"
   ]
  },
  {
   "cell_type": "code",
   "execution_count": 26,
   "id": "90253082",
   "metadata": {},
   "outputs": [],
   "source": [
    "to_clean = ['GEOCODE2', 'WEALTH1', 'ADI', 'DMA', 'MSA']"
   ]
  },
  {
   "cell_type": "code",
   "execution_count": 46,
   "id": "3520131e",
   "metadata": {},
   "outputs": [
    {
     "data": {
      "text/html": [
       "<div>\n",
       "<style scoped>\n",
       "    .dataframe tbody tr th:only-of-type {\n",
       "        vertical-align: middle;\n",
       "    }\n",
       "\n",
       "    .dataframe tbody tr th {\n",
       "        vertical-align: top;\n",
       "    }\n",
       "\n",
       "    .dataframe thead th {\n",
       "        text-align: right;\n",
       "    }\n",
       "</style>\n",
       "<table border=\"1\" class=\"dataframe\">\n",
       "  <thead>\n",
       "    <tr style=\"text-align: right;\">\n",
       "      <th></th>\n",
       "      <th>NaN_count</th>\n",
       "      <th>%</th>\n",
       "    </tr>\n",
       "  </thead>\n",
       "  <tbody>\n",
       "    <tr>\n",
       "      <th>GEOCODE2</th>\n",
       "      <td>132</td>\n",
       "      <td>0.14</td>\n",
       "    </tr>\n",
       "    <tr>\n",
       "      <th>WEALTH1</th>\n",
       "      <td>44732</td>\n",
       "      <td>46.88</td>\n",
       "    </tr>\n",
       "    <tr>\n",
       "      <th>ADI</th>\n",
       "      <td>132</td>\n",
       "      <td>0.14</td>\n",
       "    </tr>\n",
       "    <tr>\n",
       "      <th>DMA</th>\n",
       "      <td>132</td>\n",
       "      <td>0.14</td>\n",
       "    </tr>\n",
       "    <tr>\n",
       "      <th>MSA</th>\n",
       "      <td>132</td>\n",
       "      <td>0.14</td>\n",
       "    </tr>\n",
       "  </tbody>\n",
       "</table>\n",
       "</div>"
      ],
      "text/plain": [
       "          NaN_count      %\n",
       "GEOCODE2        132   0.14\n",
       "WEALTH1       44732  46.88\n",
       "ADI             132   0.14\n",
       "DMA             132   0.14\n",
       "MSA             132   0.14"
      ]
     },
     "execution_count": 46,
     "metadata": {},
     "output_type": "execute_result"
    }
   ],
   "source": [
    "pd.DataFrame(\n",
    "    df[to_clean].isna().sum(), columns=['NaN_count']\n",
    ").join(\n",
    "    pd.DataFrame(round(df[to_clean].isna().sum()*100/len(df),2), columns=['%']))"
   ]
  },
  {
   "cell_type": "code",
   "execution_count": 81,
   "id": "7b84490a",
   "metadata": {},
   "outputs": [
    {
     "data": {
      "text/html": [
       "<div>\n",
       "<style scoped>\n",
       "    .dataframe tbody tr th:only-of-type {\n",
       "        vertical-align: middle;\n",
       "    }\n",
       "\n",
       "    .dataframe tbody tr th {\n",
       "        vertical-align: top;\n",
       "    }\n",
       "\n",
       "    .dataframe thead th {\n",
       "        text-align: right;\n",
       "    }\n",
       "</style>\n",
       "<table border=\"1\" class=\"dataframe\">\n",
       "  <thead>\n",
       "    <tr style=\"text-align: right;\">\n",
       "      <th></th>\n",
       "      <th>WEALTH1</th>\n",
       "      <th>WEALTH2</th>\n",
       "    </tr>\n",
       "  </thead>\n",
       "  <tbody>\n",
       "    <tr>\n",
       "      <th>0</th>\n",
       "      <td>False</td>\n",
       "      <td>True</td>\n",
       "    </tr>\n",
       "    <tr>\n",
       "      <th>1</th>\n",
       "      <td>True</td>\n",
       "      <td>True</td>\n",
       "    </tr>\n",
       "    <tr>\n",
       "      <th>2</th>\n",
       "      <td>True</td>\n",
       "      <td>True</td>\n",
       "    </tr>\n",
       "    <tr>\n",
       "      <th>3</th>\n",
       "      <td>True</td>\n",
       "      <td>True</td>\n",
       "    </tr>\n",
       "    <tr>\n",
       "      <th>4</th>\n",
       "      <td>True</td>\n",
       "      <td>False</td>\n",
       "    </tr>\n",
       "    <tr>\n",
       "      <th>...</th>\n",
       "      <td>...</td>\n",
       "      <td>...</td>\n",
       "    </tr>\n",
       "    <tr>\n",
       "      <th>95407</th>\n",
       "      <td>False</td>\n",
       "      <td>False</td>\n",
       "    </tr>\n",
       "    <tr>\n",
       "      <th>95408</th>\n",
       "      <td>True</td>\n",
       "      <td>False</td>\n",
       "    </tr>\n",
       "    <tr>\n",
       "      <th>95409</th>\n",
       "      <td>False</td>\n",
       "      <td>False</td>\n",
       "    </tr>\n",
       "    <tr>\n",
       "      <th>95410</th>\n",
       "      <td>False</td>\n",
       "      <td>True</td>\n",
       "    </tr>\n",
       "    <tr>\n",
       "      <th>95411</th>\n",
       "      <td>True</td>\n",
       "      <td>True</td>\n",
       "    </tr>\n",
       "  </tbody>\n",
       "</table>\n",
       "<p>95412 rows × 2 columns</p>\n",
       "</div>"
      ],
      "text/plain": [
       "       WEALTH1  WEALTH2\n",
       "0        False     True\n",
       "1         True     True\n",
       "2         True     True\n",
       "3         True     True\n",
       "4         True    False\n",
       "...        ...      ...\n",
       "95407    False    False\n",
       "95408     True    False\n",
       "95409    False    False\n",
       "95410    False     True\n",
       "95411     True     True\n",
       "\n",
       "[95412 rows x 2 columns]"
      ]
     },
     "execution_count": 81,
     "metadata": {},
     "output_type": "execute_result"
    }
   ],
   "source": [
    "# GEOCODE2, ADI, DMA and MSA are all providing geographical information. \n",
    "    # The percentage of missing values is negligible. Those rows could be simply dropped.\n",
    "# WEALTH1 is missing almost half of the values, too much to just drop it. However, there is another wealth metric: WEALTH2.\n",
    "\n",
    "df[['WEALTH1','WEALTH2']].notna()"
   ]
  },
  {
   "cell_type": "code",
   "execution_count": 124,
   "id": "8efc3c3d",
   "metadata": {},
   "outputs": [
    {
     "name": "stdout",
     "output_type": "stream",
     "text": [
      "21843 lost rows out of 95412\n",
      "data loss = 22.89 %\n"
     ]
    }
   ],
   "source": [
    "# If we could somehow combine the information of 'WEALTH1' and 'WEALTH2' and remove rows without wealth data, \n",
    "# how much would be lost?\n",
    "\n",
    "mask = df['WEALTH1'].notna()+df['WEALTH2'].notna() # vector signaling at least 1 wealth metric\n",
    "\n",
    "print(len(df)-sum(mask), 'lost rows out of', len(df))\n",
    "print('data loss =', 100-round(sum(mask)*100/len(df),2),'%')\n",
    "# More reasonable, but still a considerable loss."
   ]
  },
  {
   "cell_type": "code",
   "execution_count": 94,
   "id": "0ad708a4",
   "metadata": {},
   "outputs": [
    {
     "name": "stdout",
     "output_type": "stream",
     "text": [
      "Coincidence between WEALTH1 and WEALTH2 = 64.83 %\n"
     ]
    }
   ],
   "source": [
    "# How many times both 'WEALTH1' and 'WEALTH2' metrics actually coincide?\n",
    "\n",
    "hard_mask = df['WEALTH1'].notna()*df['WEALTH2'].notna() # vector signaling 2 wealth metrics\n",
    "\n",
    "print('Coincidence between WEALTH1 and WEALTH2 =', \n",
    "      round(sum(df['WEALTH1'][hard_mask]==df['WEALTH2'][hard_mask])*100/sum(hard_mask),2), '%')"
   ]
  },
  {
   "cell_type": "code",
   "execution_count": 100,
   "id": "015b1b69",
   "metadata": {},
   "outputs": [
    {
     "data": {
      "text/html": [
       "<div>\n",
       "<style scoped>\n",
       "    .dataframe tbody tr th:only-of-type {\n",
       "        vertical-align: middle;\n",
       "    }\n",
       "\n",
       "    .dataframe tbody tr th {\n",
       "        vertical-align: top;\n",
       "    }\n",
       "\n",
       "    .dataframe thead th {\n",
       "        text-align: right;\n",
       "    }\n",
       "</style>\n",
       "<table border=\"1\" class=\"dataframe\">\n",
       "  <thead>\n",
       "    <tr style=\"text-align: right;\">\n",
       "      <th></th>\n",
       "      <th>WEALTH1</th>\n",
       "      <th>WEALTH2</th>\n",
       "      <th>INCOME</th>\n",
       "    </tr>\n",
       "  </thead>\n",
       "  <tbody>\n",
       "    <tr>\n",
       "      <th>WEALTH1</th>\n",
       "      <td>1.000000</td>\n",
       "      <td>0.872854</td>\n",
       "      <td>0.462701</td>\n",
       "    </tr>\n",
       "    <tr>\n",
       "      <th>WEALTH2</th>\n",
       "      <td>0.872854</td>\n",
       "      <td>1.000000</td>\n",
       "      <td>0.409420</td>\n",
       "    </tr>\n",
       "    <tr>\n",
       "      <th>INCOME</th>\n",
       "      <td>0.462701</td>\n",
       "      <td>0.409420</td>\n",
       "      <td>1.000000</td>\n",
       "    </tr>\n",
       "  </tbody>\n",
       "</table>\n",
       "</div>"
      ],
      "text/plain": [
       "          WEALTH1   WEALTH2    INCOME\n",
       "WEALTH1  1.000000  0.872854  0.462701\n",
       "WEALTH2  0.872854  1.000000  0.409420\n",
       "INCOME   0.462701  0.409420  1.000000"
      ]
     },
     "execution_count": 100,
     "metadata": {},
     "output_type": "execute_result"
    }
   ],
   "source": [
    "# Are there clear collinearities between 'WEALTH1','WEALTH2' and maybe other wealth proxies?\n",
    "\n",
    "corr_mat = df[['WEALTH1','WEALTH2','INCOME']].corr(method='spearman')\n",
    "corr_mat # There is a GREAT correlation between 'WEALTH1' and 'WEALTH2', so we don't need both. We could combine them!"
   ]
  },
  {
   "cell_type": "code",
   "execution_count": 101,
   "id": "5af37be5",
   "metadata": {},
   "outputs": [
    {
     "data": {
      "image/png": "[encoded data removed]",
      "text/plain": [
       "<Figure size 432x288 with 1 Axes>"
      ]
     },
     "metadata": {
      "needs_background": "light"
     },
     "output_type": "display_data"
    }
   ],
   "source": [
    "sns.countplot(x=df['WEALTH1'])\n",
    "plt.show()"
   ]
  },
  {
   "cell_type": "code",
   "execution_count": 102,
   "id": "babf38ff",
   "metadata": {},
   "outputs": [
    {
     "data": {
      "image/png": "[encoded data removed]",
      "text/plain": [
       "<Figure size 432x288 with 1 Axes>"
      ]
     },
     "metadata": {
      "needs_background": "light"
     },
     "output_type": "display_data"
    }
   ],
   "source": [
    "sns.countplot(x=df['WEALTH2'])\n",
    "plt.show()"
   ]
  },
  {
   "cell_type": "code",
   "execution_count": 120,
   "id": "c35ee8a4",
   "metadata": {},
   "outputs": [
    {
     "data": {
      "image/png": "[encoded data removed]",
      "text/plain": [
       "<Figure size 432x288 with 1 Axes>"
      ]
     },
     "metadata": {
      "needs_background": "light"
     },
     "output_type": "display_data"
    }
   ],
   "source": [
    "# OPTION A: Get the mean of both wealth metrics and drop NaN, assuming a data loss of 22.89% (21843 rows).\n",
    "\n",
    "sns.countplot(x=df[['WEALTH1','WEALTH2']].mean(axis=1).dropna().apply(lambda avg: floor(avg)))\n",
    "plt.show()"
   ]
  },
  {
   "cell_type": "code",
   "execution_count": 128,
   "id": "55777789",
   "metadata": {},
   "outputs": [
    {
     "data": {
      "image/png": "[encoded data removed]",
      "text/plain": [
       "<Figure size 432x288 with 1 Axes>"
      ]
     },
     "metadata": {
      "needs_background": "light"
     },
     "output_type": "display_data"
    }
   ],
   "source": [
    "# OPTION B: Fill NaN with a median value and hope for the best...\n",
    "\n",
    "sns.countplot(x=df[['WEALTH1','WEALTH2']].mean(axis=1).fillna(\n",
    "    floor(df[['WEALTH1','WEALTH2']].mean().mean() # Fill NaN with average wealth\n",
    "         )).apply(lambda avg: floor(avg)))\n",
    "plt.show() # No data loss, but it looks like it's giving us the finger..."
   ]
  }
 ],
 "metadata": {
  "kernelspec": {
   "display_name": "Python 3",
   "language": "python",
   "name": "python3"
  },
  "language_info": {
   "codemirror_mode": {
    "name": "ipython",
    "version": 3
   },
   "file_extension": ".py",
   "mimetype": "text/x-python",
   "name": "python",
   "nbconvert_exporter": "python",
   "pygments_lexer": "ipython3",
   "version": "3.8.8"
  }
 },
 "nbformat": 4,
 "nbformat_minor": 5
}
